{
 "cells": [
  {
   "cell_type": "code",
   "execution_count": 63,
   "metadata": {},
   "outputs": [],
   "source": [
    "import numpy as np\n",
    "import pandas as pd\n",
    "from matplotlib import pyplot as plt\n",
    "%matplotlib inline\n",
    "#Advance-style plotting\n",
    "import seaborn as sns\n",
    "color =sns.color_palette()\n",
    "sns.set_style('darkgrid')"
   ]
  },
  {
   "cell_type": "code",
   "execution_count": 64,
   "metadata": {},
   "outputs": [],
   "source": [
    "train=pd.read_excel('Data_train.xlsx')\n",
    "test =pd.read_excel('Data_test.xlsx')"
   ]
  },
  {
   "cell_type": "code",
   "execution_count": 65,
   "metadata": {},
   "outputs": [
    {
     "data": {
      "text/html": [
       "<div>\n",
       "<style scoped>\n",
       "    .dataframe tbody tr th:only-of-type {\n",
       "        vertical-align: middle;\n",
       "    }\n",
       "\n",
       "    .dataframe tbody tr th {\n",
       "        vertical-align: top;\n",
       "    }\n",
       "\n",
       "    .dataframe thead th {\n",
       "        text-align: right;\n",
       "    }\n",
       "</style>\n",
       "<table border=\"1\" class=\"dataframe\">\n",
       "  <thead>\n",
       "    <tr style=\"text-align: right;\">\n",
       "      <th></th>\n",
       "      <th>ID</th>\n",
       "      <th>Date</th>\n",
       "      <th>LicenseNo</th>\n",
       "      <th>FacilityID</th>\n",
       "      <th>FacilityName</th>\n",
       "      <th>Type</th>\n",
       "      <th>Street</th>\n",
       "      <th>City</th>\n",
       "      <th>State</th>\n",
       "      <th>LocationID</th>\n",
       "      <th>Reason</th>\n",
       "      <th>SectionViolations</th>\n",
       "      <th>RiskLevel</th>\n",
       "      <th>Geo_Loc</th>\n",
       "      <th>Inspection_Results</th>\n",
       "    </tr>\n",
       "  </thead>\n",
       "  <tbody>\n",
       "    <tr>\n",
       "      <td>0</td>\n",
       "      <td>31103489027986</td>\n",
       "      <td>26-04-2010</td>\n",
       "      <td>4744</td>\n",
       "      <td>8123</td>\n",
       "      <td>7715</td>\n",
       "      <td>RESTAURANT</td>\n",
       "      <td>15522</td>\n",
       "      <td>id-11235901</td>\n",
       "      <td>id_1890134</td>\n",
       "      <td>81876.0</td>\n",
       "      <td>CANVASS</td>\n",
       "      <td>33.0</td>\n",
       "      <td>High</td>\n",
       "      <td>locid16406</td>\n",
       "      <td>4</td>\n",
       "    </tr>\n",
       "    <tr>\n",
       "      <td>1</td>\n",
       "      <td>10088999935915</td>\n",
       "      <td>21-06-2009</td>\n",
       "      <td>2973</td>\n",
       "      <td>12268</td>\n",
       "      <td>11664</td>\n",
       "      <td>GROCERY STORE</td>\n",
       "      <td>3057</td>\n",
       "      <td>id-11235901</td>\n",
       "      <td>id_1890134</td>\n",
       "      <td>81862.0</td>\n",
       "      <td>COMPLAINT</td>\n",
       "      <td>33.0</td>\n",
       "      <td>High</td>\n",
       "      <td>locid878</td>\n",
       "      <td>4</td>\n",
       "    </tr>\n",
       "  </tbody>\n",
       "</table>\n",
       "</div>"
      ],
      "text/plain": [
       "               ID        Date  LicenseNo  FacilityID  FacilityName  \\\n",
       "0  31103489027986  26-04-2010       4744        8123          7715   \n",
       "1  10088999935915  21-06-2009       2973       12268         11664   \n",
       "\n",
       "            Type  Street         City       State  LocationID     Reason  \\\n",
       "0     RESTAURANT   15522  id-11235901  id_1890134     81876.0    CANVASS   \n",
       "1  GROCERY STORE    3057  id-11235901  id_1890134     81862.0  COMPLAINT   \n",
       "\n",
       "   SectionViolations RiskLevel     Geo_Loc  Inspection_Results  \n",
       "0               33.0      High  locid16406                   4  \n",
       "1               33.0      High    locid878                   4  "
      ]
     },
     "execution_count": 65,
     "metadata": {},
     "output_type": "execute_result"
    }
   ],
   "source": [
    "train.head(2)"
   ]
  },
  {
   "cell_type": "code",
   "execution_count": 66,
   "metadata": {},
   "outputs": [
    {
     "data": {
      "text/plain": [
       "array(['id-11235901', 'id-11275913'], dtype=object)"
      ]
     },
     "execution_count": 66,
     "metadata": {},
     "output_type": "execute_result"
    }
   ],
   "source": [
    "train['City'].unique()"
   ]
  },
  {
   "cell_type": "code",
   "execution_count": 67,
   "metadata": {},
   "outputs": [
    {
     "data": {
      "text/plain": [
       "ID                      int64\n",
       "Date                   object\n",
       "LicenseNo               int64\n",
       "FacilityID              int64\n",
       "FacilityName            int64\n",
       "Type                   object\n",
       "Street                  int64\n",
       "City                   object\n",
       "State                  object\n",
       "LocationID            float64\n",
       "Reason                 object\n",
       "SectionViolations     float64\n",
       "RiskLevel              object\n",
       "Geo_Loc                object\n",
       "Inspection_Results      int64\n",
       "dtype: object"
      ]
     },
     "execution_count": 67,
     "metadata": {},
     "output_type": "execute_result"
    }
   ],
   "source": [
    "train.dtypes"
   ]
  },
  {
   "cell_type": "code",
   "execution_count": 68,
   "metadata": {},
   "outputs": [
    {
     "data": {
      "text/plain": [
       "ID                       0\n",
       "Date                     0\n",
       "LicenseNo                0\n",
       "FacilityID               0\n",
       "FacilityName             0\n",
       "Type                  1215\n",
       "Street                   0\n",
       "City                     0\n",
       "State                    0\n",
       "LocationID              15\n",
       "Reason                   0\n",
       "SectionViolations    12976\n",
       "RiskLevel                0\n",
       "Geo_Loc                  0\n",
       "dtype: int64"
      ]
     },
     "execution_count": 68,
     "metadata": {},
     "output_type": "execute_result"
    }
   ],
   "source": [
    "test.isnull().sum()"
   ]
  },
  {
   "cell_type": "code",
   "execution_count": 69,
   "metadata": {},
   "outputs": [],
   "source": [
    "temp_df = train.copy()\n",
    "temp_df['Date'] = pd.to_datetime(temp_df['Date'], errors='coerce')"
   ]
  },
  {
   "cell_type": "code",
   "execution_count": 70,
   "metadata": {},
   "outputs": [
    {
     "data": {
      "text/plain": [
       "array(['29-02-2011', '29-02-2015'], dtype=object)"
      ]
     },
     "execution_count": 70,
     "metadata": {},
     "output_type": "execute_result"
    }
   ],
   "source": [
    "nat_indices = temp_df[temp_df['Date'].isna()].index\n",
    "\n",
    "del temp_df\n",
    "\n",
    "train.loc[nat_indices, 'Date'].unique()"
   ]
  },
  {
   "cell_type": "code",
   "execution_count": 71,
   "metadata": {},
   "outputs": [],
   "source": [
    "# Replacing the above dates by valid date\n",
    "train['Date'] = train['Date'].str.replace('29-02-2011', '28-02-2011')\n",
    "train['Date'] = train['Date'].str.replace('29-02-2015', '28-02-2015')\n",
    "\n",
    "train['Date'] = pd.to_datetime(train['Date'])"
   ]
  },
  {
   "cell_type": "code",
   "execution_count": 72,
   "metadata": {},
   "outputs": [],
   "source": [
    "#Sorting the dataframe by Date for analysis\n",
    "train = train.sort_values(by='Date')\n",
    "\n",
    "train = train.reset_index(drop=True)"
   ]
  },
  {
   "cell_type": "code",
   "execution_count": 73,
   "metadata": {},
   "outputs": [
    {
     "name": "stdout",
     "output_type": "stream",
     "text": [
      "ID 147443\n",
      "Date 2506\n",
      "LicenseNo 34384\n",
      "FacilityID 25535\n",
      "FacilityName 24348\n",
      "Type 409\n",
      "Street 17290\n",
      "City 2\n",
      "State 2\n",
      "LocationID 104\n",
      "Reason 17\n",
      "SectionViolations 61\n",
      "RiskLevel 4\n",
      "Geo_Loc 16316\n",
      "Inspection_Results 7\n"
     ]
    }
   ],
   "source": [
    "#Checking columns to drop\n",
    "for col in train.columns:\n",
    "    print(col, train[col].nunique())"
   ]
  },
  {
   "cell_type": "code",
   "execution_count": 74,
   "metadata": {},
   "outputs": [],
   "source": [
    "train = train.drop(columns=['ID'], errors='ignore')\n",
    "test = test.drop(columns=['ID'], errors='ignore')"
   ]
  },
  {
   "cell_type": "code",
   "execution_count": 75,
   "metadata": {},
   "outputs": [
    {
     "data": {
      "text/html": [
       "<div>\n",
       "<style scoped>\n",
       "    .dataframe tbody tr th:only-of-type {\n",
       "        vertical-align: middle;\n",
       "    }\n",
       "\n",
       "    .dataframe tbody tr th {\n",
       "        vertical-align: top;\n",
       "    }\n",
       "\n",
       "    .dataframe thead th {\n",
       "        text-align: right;\n",
       "    }\n",
       "</style>\n",
       "<table border=\"1\" class=\"dataframe\">\n",
       "  <thead>\n",
       "    <tr style=\"text-align: right;\">\n",
       "      <th></th>\n",
       "      <th>Date</th>\n",
       "      <th>LicenseNo</th>\n",
       "      <th>FacilityID</th>\n",
       "      <th>FacilityName</th>\n",
       "      <th>Type</th>\n",
       "      <th>Street</th>\n",
       "      <th>City</th>\n",
       "      <th>State</th>\n",
       "      <th>LocationID</th>\n",
       "      <th>Reason</th>\n",
       "      <th>SectionViolations</th>\n",
       "      <th>RiskLevel</th>\n",
       "      <th>Geo_Loc</th>\n",
       "      <th>Inspection_Results</th>\n",
       "    </tr>\n",
       "  </thead>\n",
       "  <tbody>\n",
       "    <tr>\n",
       "      <td>0</td>\n",
       "      <td>2009-01-02</td>\n",
       "      <td>12039</td>\n",
       "      <td>1767</td>\n",
       "      <td>1591</td>\n",
       "      <td>RESTAURANT</td>\n",
       "      <td>10859</td>\n",
       "      <td>id-11235901</td>\n",
       "      <td>id_1890134</td>\n",
       "      <td>81864.0</td>\n",
       "      <td>LICENSE</td>\n",
       "      <td>38.0</td>\n",
       "      <td>High</td>\n",
       "      <td>locid1995</td>\n",
       "      <td>1</td>\n",
       "    </tr>\n",
       "    <tr>\n",
       "      <td>1</td>\n",
       "      <td>2009-01-02</td>\n",
       "      <td>33956</td>\n",
       "      <td>12013</td>\n",
       "      <td>11425</td>\n",
       "      <td>LIQUOR</td>\n",
       "      <td>7235</td>\n",
       "      <td>id-11235901</td>\n",
       "      <td>id_1890134</td>\n",
       "      <td>81902.0</td>\n",
       "      <td>CONSULTATION</td>\n",
       "      <td>33.0</td>\n",
       "      <td>Low</td>\n",
       "      <td>locid12088</td>\n",
       "      <td>5</td>\n",
       "    </tr>\n",
       "    <tr>\n",
       "      <td>2</td>\n",
       "      <td>2009-01-02</td>\n",
       "      <td>8682</td>\n",
       "      <td>14182</td>\n",
       "      <td>13501</td>\n",
       "      <td>RESTAURANT</td>\n",
       "      <td>4833</td>\n",
       "      <td>id-11235901</td>\n",
       "      <td>id_1890134</td>\n",
       "      <td>81861.0</td>\n",
       "      <td>CANVASS RE-INSPECTION</td>\n",
       "      <td>30.0</td>\n",
       "      <td>High</td>\n",
       "      <td>locid5609</td>\n",
       "      <td>4</td>\n",
       "    </tr>\n",
       "    <tr>\n",
       "      <td>3</td>\n",
       "      <td>2009-01-02</td>\n",
       "      <td>11939</td>\n",
       "      <td>217</td>\n",
       "      <td>202</td>\n",
       "      <td>GROCERY STORE</td>\n",
       "      <td>2598</td>\n",
       "      <td>id-11235901</td>\n",
       "      <td>id_1890134</td>\n",
       "      <td>81854.0</td>\n",
       "      <td>LICENSE RE-INSPECTION</td>\n",
       "      <td>NaN</td>\n",
       "      <td>Low</td>\n",
       "      <td>locid4081</td>\n",
       "      <td>4</td>\n",
       "    </tr>\n",
       "    <tr>\n",
       "      <td>4</td>\n",
       "      <td>2009-01-02</td>\n",
       "      <td>5149</td>\n",
       "      <td>5983</td>\n",
       "      <td>5722</td>\n",
       "      <td>RESTAURANT</td>\n",
       "      <td>8417</td>\n",
       "      <td>id-11235901</td>\n",
       "      <td>id_1890134</td>\n",
       "      <td>81847.0</td>\n",
       "      <td>CANVASS</td>\n",
       "      <td>35.0</td>\n",
       "      <td>High</td>\n",
       "      <td>locid7350</td>\n",
       "      <td>4</td>\n",
       "    </tr>\n",
       "  </tbody>\n",
       "</table>\n",
       "</div>"
      ],
      "text/plain": [
       "        Date  LicenseNo  FacilityID  FacilityName           Type  Street  \\\n",
       "0 2009-01-02      12039        1767          1591     RESTAURANT   10859   \n",
       "1 2009-01-02      33956       12013         11425         LIQUOR    7235   \n",
       "2 2009-01-02       8682       14182         13501     RESTAURANT    4833   \n",
       "3 2009-01-02      11939         217           202  GROCERY STORE    2598   \n",
       "4 2009-01-02       5149        5983          5722     RESTAURANT    8417   \n",
       "\n",
       "          City       State  LocationID                 Reason  \\\n",
       "0  id-11235901  id_1890134     81864.0                LICENSE   \n",
       "1  id-11235901  id_1890134     81902.0           CONSULTATION   \n",
       "2  id-11235901  id_1890134     81861.0  CANVASS RE-INSPECTION   \n",
       "3  id-11235901  id_1890134     81854.0  LICENSE RE-INSPECTION   \n",
       "4  id-11235901  id_1890134     81847.0                CANVASS   \n",
       "\n",
       "   SectionViolations RiskLevel     Geo_Loc  Inspection_Results  \n",
       "0               38.0      High   locid1995                   1  \n",
       "1               33.0       Low  locid12088                   5  \n",
       "2               30.0      High   locid5609                   4  \n",
       "3                NaN       Low   locid4081                   4  \n",
       "4               35.0      High   locid7350                   4  "
      ]
     },
     "execution_count": 75,
     "metadata": {},
     "output_type": "execute_result"
    }
   ],
   "source": [
    "train.head()"
   ]
  },
  {
   "cell_type": "code",
   "execution_count": 76,
   "metadata": {},
   "outputs": [],
   "source": [
    "train['year'] =train.Date.dt.year\n",
    "train['month'] = train.Date.dt.month\n",
    "train[\"dayofweek\"]=train.Date.dt.dayofweek\n",
    "train[\"dayofyear\"]=train.Date.dt.dayofyear\n",
    "train[\"dayofmonth\"]=train.Date.dt.day\n",
    "train[\"week\"]=train.Date.dt.week\n",
    "train[\"hour\"]=train.Date.dt.hour\n",
    "train[\"minute\"]=train.Date.dt.minute\n",
    "train[\"is_weekend\"]=train.Date.apply( lambda train : 1 if train  in [5,6] else 0 )\n",
    "train[\"year\"]=train.Date.dt.year\n",
    "train[\"quarter\"]=train.Date.dt.quarter\n",
    "train[\"is_month_end\"]=train.Date.dt.is_month_end\n",
    "train[\"monis_month_startth\"]=train.Date.dt.is_month_start\n",
    "train[\"is_year_end\"]=train.Date.dt.is_year_end\n",
    "train[\"is_year_start\"]=train.Date.dt.is_year_start"
   ]
  },
  {
   "cell_type": "code",
   "execution_count": 77,
   "metadata": {},
   "outputs": [],
   "source": [
    "test['Date'] = test['Date'].str.replace('29-02-2011', '28-02-2011')\n",
    "test['Date'] = test['Date'].str.replace('29-02-2015', '28-02-2015')\n",
    "\n",
    "test['Date'] = pd.to_datetime(test['Date'])"
   ]
  },
  {
   "cell_type": "code",
   "execution_count": 78,
   "metadata": {},
   "outputs": [],
   "source": [
    "test['year'] =test.Date.dt.year\n",
    "test['month'] = test.Date.dt.month\n",
    "test[\"dayofweek\"]=test.Date.dt.dayofweek\n",
    "test[\"dayofyear\"]=test.Date.dt.dayofyear\n",
    "test[\"dayofmonth\"]=test.Date.dt.day\n",
    "test[\"week\"]=test.Date.dt.week\n",
    "test[\"hour\"]=test.Date.dt.hour\n",
    "test[\"minute\"]=test.Date.dt.minute\n",
    "test[\"is_weekend\"]=test.Date.apply( lambda test : 1 if test  in [5,6] else 0 )\n",
    "test[\"year\"]=test.Date.dt.year\n",
    "test[\"quarter\"]=test.Date.dt.quarter\n",
    "test[\"is_month_end\"]=test.Date.dt.is_month_end\n",
    "test[\"monis_month_startth\"]=test.Date.dt.is_month_start\n",
    "test[\"is_year_end\"]=test.Date.dt.is_year_end\n",
    "test[\"is_year_start\"]=test.Date.dt.is_year_start"
   ]
  },
  {
   "cell_type": "code",
   "execution_count": 79,
   "metadata": {},
   "outputs": [
    {
     "data": {
      "image/png": "[encoded data removed]",
      "text/plain": [
       "<Figure size 540x360 with 1 Axes>"
      ]
     },
     "metadata": {},
     "output_type": "display_data"
    }
   ],
   "source": [
    "#analysizing data distribution\n",
    "from matplotlib import pyplot as plt\n",
    "year_count = train.groupby(['year'])['year'].count()\n",
    "years = year_count.index\n",
    "count_values = year_count.values\n",
    "\n",
    "plt.rcParams['figure.figsize'] = [7.5, 5]\n",
    "plt.plot(years, count_values, marker='*')\n",
    "plt.xticks(years)\n",
    "plt.xlabel('Year')\n",
    "plt.ylabel('Count')\n",
    "plt.show()"
   ]
  },
  {
   "cell_type": "code",
   "execution_count": 80,
   "metadata": {},
   "outputs": [],
   "source": [
    "train.fillna(-999, inplace =True)"
   ]
  },
  {
   "cell_type": "code",
   "execution_count": 81,
   "metadata": {},
   "outputs": [],
   "source": [
    "test.fillna(-999, inplace =True)"
   ]
  },
  {
   "cell_type": "code",
   "execution_count": 82,
   "metadata": {},
   "outputs": [
    {
     "data": {
      "text/plain": [
       "(49148, 27)"
      ]
     },
     "execution_count": 82,
     "metadata": {},
     "output_type": "execute_result"
    }
   ],
   "source": [
    "test.shape"
   ]
  },
  {
   "cell_type": "code",
   "execution_count": 83,
   "metadata": {},
   "outputs": [
    {
     "data": {
      "text/html": [
       "<div>\n",
       "<style scoped>\n",
       "    .dataframe tbody tr th:only-of-type {\n",
       "        vertical-align: middle;\n",
       "    }\n",
       "\n",
       "    .dataframe tbody tr th {\n",
       "        vertical-align: top;\n",
       "    }\n",
       "\n",
       "    .dataframe thead th {\n",
       "        text-align: right;\n",
       "    }\n",
       "</style>\n",
       "<table border=\"1\" class=\"dataframe\">\n",
       "  <thead>\n",
       "    <tr style=\"text-align: right;\">\n",
       "      <th></th>\n",
       "      <th>FACILITY CHANGED</th>\n",
       "      <th>FAIL</th>\n",
       "      <th>FURTHER INSPECTION REQUIRED</th>\n",
       "      <th>INSPECTION OVERRULED</th>\n",
       "      <th>PASS</th>\n",
       "      <th>PASS(CONDITIONAL)</th>\n",
       "      <th>SHUT-DOWN</th>\n",
       "    </tr>\n",
       "  </thead>\n",
       "  <tbody>\n",
       "    <tr>\n",
       "      <td>0</td>\n",
       "      <td>0.000529</td>\n",
       "      <td>0.868388</td>\n",
       "      <td>0.001055</td>\n",
       "      <td>0.006834</td>\n",
       "      <td>0.010680</td>\n",
       "      <td>0.111109</td>\n",
       "      <td>0.001407</td>\n",
       "    </tr>\n",
       "    <tr>\n",
       "      <td>1</td>\n",
       "      <td>0.000410</td>\n",
       "      <td>0.012149</td>\n",
       "      <td>0.000548</td>\n",
       "      <td>0.001388</td>\n",
       "      <td>0.977625</td>\n",
       "      <td>0.007183</td>\n",
       "      <td>0.000696</td>\n",
       "    </tr>\n",
       "    <tr>\n",
       "      <td>2</td>\n",
       "      <td>0.001143</td>\n",
       "      <td>0.026652</td>\n",
       "      <td>0.005940</td>\n",
       "      <td>0.427783</td>\n",
       "      <td>0.088497</td>\n",
       "      <td>0.010358</td>\n",
       "      <td>0.439627</td>\n",
       "    </tr>\n",
       "    <tr>\n",
       "      <td>3</td>\n",
       "      <td>0.001715</td>\n",
       "      <td>0.045655</td>\n",
       "      <td>0.007711</td>\n",
       "      <td>0.113533</td>\n",
       "      <td>0.279784</td>\n",
       "      <td>0.018539</td>\n",
       "      <td>0.533062</td>\n",
       "    </tr>\n",
       "    <tr>\n",
       "      <td>4</td>\n",
       "      <td>0.000437</td>\n",
       "      <td>0.013916</td>\n",
       "      <td>0.000597</td>\n",
       "      <td>0.001822</td>\n",
       "      <td>0.970593</td>\n",
       "      <td>0.011864</td>\n",
       "      <td>0.000771</td>\n",
       "    </tr>\n",
       "  </tbody>\n",
       "</table>\n",
       "</div>"
      ],
      "text/plain": [
       "   FACILITY CHANGED      FAIL  FURTHER INSPECTION REQUIRED  \\\n",
       "0          0.000529  0.868388                     0.001055   \n",
       "1          0.000410  0.012149                     0.000548   \n",
       "2          0.001143  0.026652                     0.005940   \n",
       "3          0.001715  0.045655                     0.007711   \n",
       "4          0.000437  0.013916                     0.000597   \n",
       "\n",
       "   INSPECTION OVERRULED      PASS  PASS(CONDITIONAL)  SHUT-DOWN  \n",
       "0              0.006834  0.010680           0.111109   0.001407  \n",
       "1              0.001388  0.977625           0.007183   0.000696  \n",
       "2              0.427783  0.088497           0.010358   0.439627  \n",
       "3              0.113533  0.279784           0.018539   0.533062  \n",
       "4              0.001822  0.970593           0.011864   0.000771  "
      ]
     },
     "execution_count": 83,
     "metadata": {},
     "output_type": "execute_result"
    }
   ],
   "source": [
    "sample =pd.read_excel('Sample_Submission.xlsx');sample.head()"
   ]
  },
  {
   "cell_type": "code",
   "execution_count": 84,
   "metadata": {},
   "outputs": [
    {
     "data": {
      "text/html": [
       "<div>\n",
       "<style scoped>\n",
       "    .dataframe tbody tr th:only-of-type {\n",
       "        vertical-align: middle;\n",
       "    }\n",
       "\n",
       "    .dataframe tbody tr th {\n",
       "        vertical-align: top;\n",
       "    }\n",
       "\n",
       "    .dataframe thead th {\n",
       "        text-align: right;\n",
       "    }\n",
       "</style>\n",
       "<table border=\"1\" class=\"dataframe\">\n",
       "  <thead>\n",
       "    <tr style=\"text-align: right;\">\n",
       "      <th></th>\n",
       "      <th>Date</th>\n",
       "      <th>LicenseNo</th>\n",
       "      <th>FacilityID</th>\n",
       "      <th>FacilityName</th>\n",
       "      <th>Type</th>\n",
       "      <th>Street</th>\n",
       "      <th>City</th>\n",
       "      <th>State</th>\n",
       "      <th>LocationID</th>\n",
       "      <th>Reason</th>\n",
       "      <th>...</th>\n",
       "      <th>dayofmonth</th>\n",
       "      <th>week</th>\n",
       "      <th>hour</th>\n",
       "      <th>minute</th>\n",
       "      <th>is_weekend</th>\n",
       "      <th>quarter</th>\n",
       "      <th>is_month_end</th>\n",
       "      <th>monis_month_startth</th>\n",
       "      <th>is_year_end</th>\n",
       "      <th>is_year_start</th>\n",
       "    </tr>\n",
       "  </thead>\n",
       "  <tbody>\n",
       "    <tr>\n",
       "      <td>0</td>\n",
       "      <td>2009-01-02</td>\n",
       "      <td>12039</td>\n",
       "      <td>1767</td>\n",
       "      <td>1591</td>\n",
       "      <td>RESTAURANT</td>\n",
       "      <td>10859</td>\n",
       "      <td>id-11235901</td>\n",
       "      <td>id_1890134</td>\n",
       "      <td>81864.0</td>\n",
       "      <td>LICENSE</td>\n",
       "      <td>...</td>\n",
       "      <td>2</td>\n",
       "      <td>1</td>\n",
       "      <td>0</td>\n",
       "      <td>0</td>\n",
       "      <td>0</td>\n",
       "      <td>1</td>\n",
       "      <td>False</td>\n",
       "      <td>False</td>\n",
       "      <td>False</td>\n",
       "      <td>False</td>\n",
       "    </tr>\n",
       "    <tr>\n",
       "      <td>1</td>\n",
       "      <td>2009-01-02</td>\n",
       "      <td>33956</td>\n",
       "      <td>12013</td>\n",
       "      <td>11425</td>\n",
       "      <td>LIQUOR</td>\n",
       "      <td>7235</td>\n",
       "      <td>id-11235901</td>\n",
       "      <td>id_1890134</td>\n",
       "      <td>81902.0</td>\n",
       "      <td>CONSULTATION</td>\n",
       "      <td>...</td>\n",
       "      <td>2</td>\n",
       "      <td>1</td>\n",
       "      <td>0</td>\n",
       "      <td>0</td>\n",
       "      <td>0</td>\n",
       "      <td>1</td>\n",
       "      <td>False</td>\n",
       "      <td>False</td>\n",
       "      <td>False</td>\n",
       "      <td>False</td>\n",
       "    </tr>\n",
       "    <tr>\n",
       "      <td>2</td>\n",
       "      <td>2009-01-02</td>\n",
       "      <td>8682</td>\n",
       "      <td>14182</td>\n",
       "      <td>13501</td>\n",
       "      <td>RESTAURANT</td>\n",
       "      <td>4833</td>\n",
       "      <td>id-11235901</td>\n",
       "      <td>id_1890134</td>\n",
       "      <td>81861.0</td>\n",
       "      <td>CANVASS RE-INSPECTION</td>\n",
       "      <td>...</td>\n",
       "      <td>2</td>\n",
       "      <td>1</td>\n",
       "      <td>0</td>\n",
       "      <td>0</td>\n",
       "      <td>0</td>\n",
       "      <td>1</td>\n",
       "      <td>False</td>\n",
       "      <td>False</td>\n",
       "      <td>False</td>\n",
       "      <td>False</td>\n",
       "    </tr>\n",
       "    <tr>\n",
       "      <td>3</td>\n",
       "      <td>2009-01-02</td>\n",
       "      <td>11939</td>\n",
       "      <td>217</td>\n",
       "      <td>202</td>\n",
       "      <td>GROCERY STORE</td>\n",
       "      <td>2598</td>\n",
       "      <td>id-11235901</td>\n",
       "      <td>id_1890134</td>\n",
       "      <td>81854.0</td>\n",
       "      <td>LICENSE RE-INSPECTION</td>\n",
       "      <td>...</td>\n",
       "      <td>2</td>\n",
       "      <td>1</td>\n",
       "      <td>0</td>\n",
       "      <td>0</td>\n",
       "      <td>0</td>\n",
       "      <td>1</td>\n",
       "      <td>False</td>\n",
       "      <td>False</td>\n",
       "      <td>False</td>\n",
       "      <td>False</td>\n",
       "    </tr>\n",
       "    <tr>\n",
       "      <td>4</td>\n",
       "      <td>2009-01-02</td>\n",
       "      <td>5149</td>\n",
       "      <td>5983</td>\n",
       "      <td>5722</td>\n",
       "      <td>RESTAURANT</td>\n",
       "      <td>8417</td>\n",
       "      <td>id-11235901</td>\n",
       "      <td>id_1890134</td>\n",
       "      <td>81847.0</td>\n",
       "      <td>CANVASS</td>\n",
       "      <td>...</td>\n",
       "      <td>2</td>\n",
       "      <td>1</td>\n",
       "      <td>0</td>\n",
       "      <td>0</td>\n",
       "      <td>0</td>\n",
       "      <td>1</td>\n",
       "      <td>False</td>\n",
       "      <td>False</td>\n",
       "      <td>False</td>\n",
       "      <td>False</td>\n",
       "    </tr>\n",
       "  </tbody>\n",
       "</table>\n",
       "<p>5 rows × 28 columns</p>\n",
       "</div>"
      ],
      "text/plain": [
       "        Date  LicenseNo  FacilityID  FacilityName           Type  Street  \\\n",
       "0 2009-01-02      12039        1767          1591     RESTAURANT   10859   \n",
       "1 2009-01-02      33956       12013         11425         LIQUOR    7235   \n",
       "2 2009-01-02       8682       14182         13501     RESTAURANT    4833   \n",
       "3 2009-01-02      11939         217           202  GROCERY STORE    2598   \n",
       "4 2009-01-02       5149        5983          5722     RESTAURANT    8417   \n",
       "\n",
       "          City       State  LocationID                 Reason  ...  \\\n",
       "0  id-11235901  id_1890134     81864.0                LICENSE  ...   \n",
       "1  id-11235901  id_1890134     81902.0           CONSULTATION  ...   \n",
       "2  id-11235901  id_1890134     81861.0  CANVASS RE-INSPECTION  ...   \n",
       "3  id-11235901  id_1890134     81854.0  LICENSE RE-INSPECTION  ...   \n",
       "4  id-11235901  id_1890134     81847.0                CANVASS  ...   \n",
       "\n",
       "   dayofmonth week hour  minute  is_weekend  quarter  is_month_end  \\\n",
       "0           2    1    0       0           0        1         False   \n",
       "1           2    1    0       0           0        1         False   \n",
       "2           2    1    0       0           0        1         False   \n",
       "3           2    1    0       0           0        1         False   \n",
       "4           2    1    0       0           0        1         False   \n",
       "\n",
       "   monis_month_startth  is_year_end  is_year_start  \n",
       "0                False        False          False  \n",
       "1                False        False          False  \n",
       "2                False        False          False  \n",
       "3                False        False          False  \n",
       "4                False        False          False  \n",
       "\n",
       "[5 rows x 28 columns]"
      ]
     },
     "execution_count": 84,
     "metadata": {},
     "output_type": "execute_result"
    }
   ],
   "source": [
    "train.head()"
   ]
  },
  {
   "cell_type": "code",
   "execution_count": 85,
   "metadata": {},
   "outputs": [
    {
     "data": {
      "text/plain": [
       "<matplotlib.axes._subplots.AxesSubplot at 0x2552d712dc8>"
      ]
     },
     "execution_count": 85,
     "metadata": {},
     "output_type": "execute_result"
    },
    {
     "data": {
      "image/png": "[encoded data removed]",
      "text/plain": [
       "<Figure size 1296x720 with 2 Axes>"
      ]
     },
     "metadata": {},
     "output_type": "display_data"
    }
   ],
   "source": [
    "import seaborn as sns\n",
    "corrmat =train.corr()\n",
    "f, ax = plt.subplots(figsize=(18,10))\n",
    "sns.heatmap(corrmat, square=True, annot=True, linewidth=0.8, cmap='RdBu')"
   ]
  },
  {
   "cell_type": "code",
   "execution_count": 24,
   "metadata": {},
   "outputs": [
    {
     "data": {
      "text/plain": [
       "array([1, 5, 4, 6, 0, 3, 2], dtype=int64)"
      ]
     },
     "execution_count": 24,
     "metadata": {},
     "output_type": "execute_result"
    }
   ],
   "source": [
    "train['Inspection_Results'].unique()"
   ]
  },
  {
   "cell_type": "code",
   "execution_count": 27,
   "metadata": {},
   "outputs": [],
   "source": [
    "test.drop(['hour', 'minute', 'is_weekend'], axis=1, inplace =True)"
   ]
  },
  {
   "cell_type": "code",
   "execution_count": 29,
   "metadata": {},
   "outputs": [],
   "source": [
    "x =train.drop(['Date','Inspection_Results'], axis =1)\n",
    "y =train['Inspection_Results']"
   ]
  },
  {
   "cell_type": "code",
   "execution_count": 30,
   "metadata": {},
   "outputs": [],
   "source": [
    "test =test.drop('Date', axis =1)"
   ]
  },
  {
   "cell_type": "code",
   "execution_count": 31,
   "metadata": {},
   "outputs": [],
   "source": [
    "from catboost import Pool, CatBoostClassifier, cv"
   ]
  },
  {
   "cell_type": "code",
   "execution_count": 32,
   "metadata": {},
   "outputs": [
    {
     "data": {
      "text/plain": [
       "array([ 0,  1,  2,  3,  4,  5,  6,  8, 10, 11, 12, 13, 14, 15, 16, 17, 18,\n",
       "       19, 20, 21, 22], dtype=int64)"
      ]
     },
     "execution_count": 32,
     "metadata": {},
     "output_type": "execute_result"
    }
   ],
   "source": [
    "cate_features_index=np.where(x.dtypes != float) [0]; cate_features_index"
   ]
  },
  {
   "cell_type": "code",
   "execution_count": 41,
   "metadata": {},
   "outputs": [
    {
     "name": "stdout",
     "output_type": "stream",
     "text": [
      "0:\tlearn: 1.1886607\ttest: 1.1852361\ttest1: 1.1871897\tbest: 1.1871897 (0)\ttotal: 3.84s\tremaining: 38m 19s\n",
      "100:\tlearn: 0.2984479\ttest: 0.2450945\ttest1: 0.3177042\tbest: 0.3174072 (70)\ttotal: 7m 56s\tremaining: 39m 12s\n",
      "200:\tlearn: 0.2732481\ttest: 0.2161769\ttest1: 0.3095316\tbest: 0.3095252 (199)\ttotal: 16m 18s\tremaining: 32m 22s\n",
      "300:\tlearn: 0.2574895\ttest: 0.1995839\ttest1: 0.3066344\tbest: 0.3066024 (298)\ttotal: 24m 53s\tremaining: 24m 43s\n",
      "400:\tlearn: 0.2400823\ttest: 0.1923565\ttest1: 0.3051993\tbest: 0.3051515 (394)\ttotal: 33m 41s\tremaining: 16m 43s\n",
      "500:\tlearn: 0.2242204\ttest: 0.1886956\ttest1: 0.3046841\tbest: 0.3046592 (499)\ttotal: 42m 27s\tremaining: 8m 23s\n",
      "599:\tlearn: 0.2097987\ttest: 0.1867734\ttest1: 0.3047602\tbest: 0.3042317 (565)\ttotal: 51m 24s\tremaining: 0us\n",
      "\n",
      "bestTest = 0.3042316606\n",
      "bestIteration = 565\n",
      "\n",
      "Shrink model to first 566 iterations.\n",
      "err:  0.3042316606002379\n",
      "0:\tlearn: 1.1912910\ttest: 1.1884880\ttest1: 1.1889697\tbest: 1.1889697 (0)\ttotal: 3.67s\tremaining: 36m 40s\n",
      "100:\tlearn: 0.2929947\ttest: 0.2412550\ttest1: 0.3199658\tbest: 0.3199658 (100)\ttotal: 8m 13s\tremaining: 40m 36s\n",
      "200:\tlearn: 0.2733729\ttest: 0.2399994\ttest1: 0.3135076\tbest: 0.3135076 (200)\ttotal: 14m 13s\tremaining: 28m 14s\n",
      "300:\tlearn: 0.2540823\ttest: 0.2290382\ttest1: 0.3108513\tbest: 0.3108108 (299)\ttotal: 18m 40s\tremaining: 18m 33s\n",
      "400:\tlearn: 0.2395712\ttest: 0.2228442\ttest1: 0.3094623\tbest: 0.3094423 (399)\ttotal: 23m 2s\tremaining: 11m 25s\n",
      "500:\tlearn: 0.2235739\ttest: 0.2123981\ttest1: 0.3089364\tbest: 0.3088863 (492)\ttotal: 27m 24s\tremaining: 5m 24s\n",
      "599:\tlearn: 0.2071750\ttest: 0.2072467\ttest1: 0.3080150\tbest: 0.3078008 (585)\ttotal: 32m 2s\tremaining: 0us\n",
      "\n",
      "bestTest = 0.307800751\n",
      "bestIteration = 585\n",
      "\n",
      "Shrink model to first 586 iterations.\n",
      "err:  0.30780075099600124\n",
      "0:\tlearn: 1.1900098\ttest: 1.1880256\ttest1: 1.1873971\tbest: 1.1873971 (0)\ttotal: 1.98s\tremaining: 19m 44s\n",
      "100:\tlearn: 0.2953088\ttest: 0.2564904\ttest1: 0.3188618\tbest: 0.3188618 (100)\ttotal: 4m 10s\tremaining: 20m 38s\n",
      "200:\tlearn: 0.2717272\ttest: 0.2296498\ttest1: 0.3113143\tbest: 0.3113143 (200)\ttotal: 8m 33s\tremaining: 17m\n",
      "300:\tlearn: 0.2565647\ttest: 0.2113992\ttest1: 0.3074717\tbest: 0.3074717 (300)\ttotal: 12m 56s\tremaining: 12m 51s\n",
      "400:\tlearn: 0.2374474\ttest: 0.2030450\ttest1: 0.3054267\tbest: 0.3052976 (391)\ttotal: 17m 27s\tremaining: 8m 39s\n",
      "500:\tlearn: 0.2227110\ttest: 0.1966461\ttest1: 0.3043232\tbest: 0.3040937 (476)\ttotal: 22m 4s\tremaining: 4m 21s\n",
      "599:\tlearn: 0.2092847\ttest: 0.1904445\ttest1: 0.3036683\tbest: 0.3036513 (597)\ttotal: 28m 8s\tremaining: 0us\n",
      "\n",
      "bestTest = 0.3036513023\n",
      "bestIteration = 597\n",
      "\n",
      "Shrink model to first 598 iterations.\n",
      "err:  0.3036513022610614\n"
     ]
    }
   ],
   "source": [
    "from sklearn.metrics import accuracy_score,confusion_matrix,f1_score,log_loss\n",
    "errcb=[]\n",
    "y_pred_totcb=[]\n",
    "\n",
    "from sklearn.model_selection import KFold,StratifiedKFold, TimeSeriesSplit, GroupKFold\n",
    "fold=KFold(n_splits=3, shuffle=True,random_state=99)\n",
    "i=1\n",
    "\n",
    "for train_index, test_index in fold.split(x,y):\n",
    "    X_train, X_test = x.iloc[train_index], x.iloc[test_index]\n",
    "    y_train, y_test = y[train_index], y[test_index] #6 depth 0.1 and -1 no dropinng\n",
    "\n",
    "    m=CatBoostClassifier(iterations =600,learning_rate=0.2, depth=8,random_state=299,thread_count=6, loss_function='MultiClass',random_strength=0.1,leaf_estimation_method='Newton', use_best_model=True)\n",
    "    m.fit(X_train,y_train,cate_features_index,eval_set=[(X_train,y_train),(X_test, y_test)], early_stopping_rounds=100,verbose=100)\n",
    "    preds=m.predict_proba(X_test)\n",
    "    \n",
    "    print(\"err: \",log_loss(y_test,preds))\n",
    "    errcb.append(log_loss(y_test,preds))\n",
    "    p = m.predict_proba(test)\n",
    "    y_pred_totcb.append(p)"
   ]
  },
  {
   "cell_type": "code",
   "execution_count": 51,
   "metadata": {},
   "outputs": [],
   "source": [
    "predsx =np.mean(y_pred_totcb,0)"
   ]
  },
  {
   "cell_type": "code",
   "execution_count": 52,
   "metadata": {},
   "outputs": [
    {
     "data": {
      "text/plain": [
       "array([[1.36697324e-06, 9.67398240e-01, 1.19866811e-04, ...,\n",
       "        3.94546692e-03, 2.62328222e-02, 4.23004110e-04],\n",
       "       [3.69471170e-07, 2.48097548e-03, 1.54009717e-05, ...,\n",
       "        9.96089412e-01, 1.36575158e-03, 2.52638109e-05],\n",
       "       [4.06693100e-04, 6.39722881e-03, 1.63620674e-03, ...,\n",
       "        8.16312341e-02, 2.12427725e-03, 3.21918766e-01],\n",
       "       ...,\n",
       "       [5.63003426e-07, 1.13859101e-03, 2.42972528e-05, ...,\n",
       "        9.94692500e-01, 2.17665357e-03, 4.50820541e-05],\n",
       "       [8.17071993e-07, 1.10879224e-01, 1.06000081e-05, ...,\n",
       "        7.59982099e-03, 8.80853417e-01, 4.81125692e-05],\n",
       "       [9.48643399e-06, 1.21210961e-03, 2.66325902e-04, ...,\n",
       "        9.94785537e-01, 1.82834866e-03, 5.16003214e-04]])"
      ]
     },
     "execution_count": 52,
     "metadata": {},
     "output_type": "execute_result"
    }
   ],
   "source": [
    "predsx"
   ]
  },
  {
   "cell_type": "code",
   "execution_count": 53,
   "metadata": {},
   "outputs": [
    {
     "data": {
      "text/plain": [
       "0.30522790461910015"
      ]
     },
     "execution_count": 53,
     "metadata": {},
     "output_type": "execute_result"
    }
   ],
   "source": [
    "np.mean(errcb)"
   ]
  },
  {
   "cell_type": "code",
   "execution_count": 54,
   "metadata": {},
   "outputs": [],
   "source": [
    "colx =sample.columns"
   ]
  },
  {
   "cell_type": "code",
   "execution_count": 55,
   "metadata": {},
   "outputs": [
    {
     "data": {
      "text/plain": [
       "Index(['FACILITY CHANGED', 'FAIL', 'FURTHER INSPECTION REQUIRED',\n",
       "       'INSPECTION OVERRULED', 'PASS', 'PASS(CONDITIONAL)', 'SHUT-DOWN'],\n",
       "      dtype='object')"
      ]
     },
     "execution_count": 55,
     "metadata": {},
     "output_type": "execute_result"
    }
   ],
   "source": [
    "colx"
   ]
  },
  {
   "cell_type": "code",
   "execution_count": 58,
   "metadata": {},
   "outputs": [
    {
     "data": {
      "text/plain": [
       "array([[1.36697324e-06, 9.67398240e-01, 1.19866811e-04, ...,\n",
       "        3.94546692e-03, 2.62328222e-02, 4.23004110e-04],\n",
       "       [3.69471170e-07, 2.48097548e-03, 1.54009717e-05, ...,\n",
       "        9.96089412e-01, 1.36575158e-03, 2.52638109e-05],\n",
       "       [4.06693100e-04, 6.39722881e-03, 1.63620674e-03, ...,\n",
       "        8.16312341e-02, 2.12427725e-03, 3.21918766e-01],\n",
       "       ...,\n",
       "       [5.63003426e-07, 1.13859101e-03, 2.42972528e-05, ...,\n",
       "        9.94692500e-01, 2.17665357e-03, 4.50820541e-05],\n",
       "       [8.17071993e-07, 1.10879224e-01, 1.06000081e-05, ...,\n",
       "        7.59982099e-03, 8.80853417e-01, 4.81125692e-05],\n",
       "       [9.48643399e-06, 1.21210961e-03, 2.66325902e-04, ...,\n",
       "        9.94785537e-01, 1.82834866e-03, 5.16003214e-04]])"
      ]
     },
     "execution_count": 58,
     "metadata": {},
     "output_type": "execute_result"
    }
   ],
   "source": [
    "predsx"
   ]
  },
  {
   "cell_type": "code",
   "execution_count": null,
   "metadata": {},
   "outputs": [],
   "source": [
    "pd =pd.DataFrame(predsx, columns=colx)\n",
    "pd.head()"
   ]
  },
  {
   "cell_type": "code",
   "execution_count": 40,
   "metadata": {},
   "outputs": [],
   "source": [
    "pd.to_excel('eng4xx.xlsx', index=False)"
   ]
  }
 ],
 "metadata": {
  "kernelspec": {
   "display_name": "Python 3",
   "language": "python",
   "name": "python3"
  },
  "language_info": {
   "codemirror_mode": {
    "name": "ipython",
    "version": 3
   },
   "file_extension": ".py",
   "mimetype": "text/x-python",
   "name": "python",
   "nbconvert_exporter": "python",
   "pygments_lexer": "ipython3",
   "version": "3.7.4"
  }
 },
 "nbformat": 4,
 "nbformat_minor": 4
}
